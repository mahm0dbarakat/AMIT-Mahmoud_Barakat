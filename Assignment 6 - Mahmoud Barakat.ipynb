{
 "cells": [
  {
   "cell_type": "markdown",
   "id": "facd11d9",
   "metadata": {},
   "source": [
    "1-Write a NumPy program to test whether none of the elements of a given array is zero."
   ]
  },
  {
   "cell_type": "code",
   "execution_count": 2,
   "id": "983bdcd3",
   "metadata": {},
   "outputs": [
    {
     "name": "stdout",
     "output_type": "stream",
     "text": [
      "One or more of the emelents is Zero\n"
     ]
    }
   ],
   "source": [
    "import numpy as np\n",
    "arr1=np.array([1, 2, 3, 4, 0, 9, 7])\n",
    "if np.all(arr1!=0):\n",
    "    print('None of the emelents is Zero')\n",
    "else: print('One or more of the emelents is Zero')\n",
    "        \n"
   ]
  },
  {
   "cell_type": "markdown",
   "id": "04bdf25e",
   "metadata": {},
   "source": [
    "2-Write a NumPy program to test whether any of the elements of a given array is non-zero"
   ]
  },
  {
   "cell_type": "code",
   "execution_count": 30,
   "id": "77e90b8f",
   "metadata": {},
   "outputs": [
    {
     "name": "stdout",
     "output_type": "stream",
     "text": [
      "None of the emelents is non-Zero\n"
     ]
    }
   ],
   "source": [
    "arr1=np.array([0, 0, 0, 4, 0, 0, 0])\n",
    "if np.all(arr1==0):\n",
    "    print('None of the emelents is non-Zero')\n",
    "else: print('All elements are Zeros')"
   ]
  },
  {
   "cell_type": "markdown",
   "id": "299bdc4d",
   "metadata": {},
   "source": [
    "3. Write a NumPy program to create an element-wise comparison (equal, equal within a tolerance) of two given arrays"
   ]
  },
  {
   "cell_type": "code",
   "execution_count": 44,
   "id": "2f6c6a4e",
   "metadata": {},
   "outputs": [
    {
     "name": "stdout",
     "output_type": "stream",
     "text": [
      "Comparison - equal within a tolerance\n"
     ]
    }
   ],
   "source": [
    "arr1=np.array([1, 2, 3, 4, 0, 9, 7])\n",
    "arr2=np.array([1, 2, 3, 4, 0, 9, 7])\n",
    "if np.all(arr1==arr2) or np.allclose(arr1,arr2):\n",
    "    print('Comparison - equal within a tolerance')\n",
    "else: print('Comparison - Not equal within a tolerance:')"
   ]
  },
  {
   "cell_type": "markdown",
   "id": "e22df321",
   "metadata": {},
   "source": [
    "4.Write a NumPy program to create an array of 10 zeros,10 ones, 10 fives."
   ]
  },
  {
   "cell_type": "code",
   "execution_count": 55,
   "id": "f3fb1de1",
   "metadata": {},
   "outputs": [
    {
     "name": "stdout",
     "output_type": "stream",
     "text": [
      "[0. 0. 0. 0. 0. 0. 0. 0. 0. 0. 1. 1. 1. 1. 1. 1. 1. 1. 1. 1. 5. 5. 5. 5.\n",
      " 5. 5. 5. 5. 5. 5.]\n"
     ]
    }
   ],
   "source": [
    "arr1=np.concatenate((np.zeros(10),np.ones(10),np.ones(10)*5),axis=None)\n",
    "print(arr1)"
   ]
  },
  {
   "cell_type": "markdown",
   "id": "659848d6",
   "metadata": {},
   "source": [
    "5. Write a NumPy program to create an array of the integers from 30 to70."
   ]
  },
  {
   "cell_type": "code",
   "execution_count": 16,
   "id": "6efa69cd",
   "metadata": {},
   "outputs": [
    {
     "name": "stdout",
     "output_type": "stream",
     "text": [
      "[30 31 32 33 34 35 36 37 38 39 40 41 42 43 44 45 46 47 48 49 50 51 52 53\n",
      " 54 55 56 57 58 59 60 61 62 63 64 65 66 67 68 69]\n"
     ]
    }
   ],
   "source": [
    "arr1=np.arange(30,70)\n",
    "print(arr1)"
   ]
  },
  {
   "cell_type": "markdown",
   "id": "f0e2590e",
   "metadata": {},
   "source": [
    "6. Write a NumPy program to create a 3x3 identity matrix"
   ]
  },
  {
   "cell_type": "code",
   "execution_count": 60,
   "id": "8bc68e35",
   "metadata": {},
   "outputs": [
    {
     "name": "stdout",
     "output_type": "stream",
     "text": [
      "[[1. 0. 0.]\n",
      " [0. 1. 0.]\n",
      " [0. 0. 1.]]\n"
     ]
    }
   ],
   "source": [
    "print(np.identity(3))"
   ]
  },
  {
   "cell_type": "markdown",
   "id": "663691de",
   "metadata": {},
   "source": [
    "7. Write a NumPy program to generate a random number between 0 and 1"
   ]
  },
  {
   "cell_type": "code",
   "execution_count": 12,
   "id": "e2726ebf",
   "metadata": {},
   "outputs": [
    {
     "name": "stdout",
     "output_type": "stream",
     "text": [
      "[0.32050236]\n"
     ]
    }
   ],
   "source": [
    "print(np.random.normal(0,1,1))"
   ]
  },
  {
   "cell_type": "markdown",
   "id": "ae27707d",
   "metadata": {},
   "source": [
    " 8.Write a NumPy program to generate an array of 15 random numbers from a standard normal distribution"
   ]
  },
  {
   "cell_type": "code",
   "execution_count": 15,
   "id": "9db6f628",
   "metadata": {},
   "outputs": [
    {
     "name": "stdout",
     "output_type": "stream",
     "text": [
      "[-1.33821364 -0.76542453  1.01990722  1.14545516 -0.27029609  0.39045017\n",
      "  0.45746433 -0.01101924 -1.30880911  1.14728812  0.39057095 -1.44161105\n",
      "  0.31957305  1.39815808  0.73468381]\n"
     ]
    }
   ],
   "source": [
    "print(np.random.normal(0,1,15))"
   ]
  },
  {
   "cell_type": "markdown",
   "id": "100bb1b3",
   "metadata": {},
   "source": [
    "9. Write a NumPy program to create a vector with values ranging from 15 to 55 and print all values except the first and last."
   ]
  },
  {
   "cell_type": "code",
   "execution_count": 18,
   "id": "8463260b",
   "metadata": {},
   "outputs": [
    {
     "name": "stdout",
     "output_type": "stream",
     "text": [
      "[16 17 18 19 20 21 22 23 24 25 26 27 28 29 30 31 32 33 34 35 36 37 38 39\n",
      " 40 41 42 43 44 45 46 47 48 49 50 51 52 53]\n"
     ]
    }
   ],
   "source": [
    "arr1=np.arange(15,55)\n",
    "print(arr1[1:-1])"
   ]
  },
  {
   "cell_type": "markdown",
   "id": "cc599f40",
   "metadata": {},
   "source": [
    "10. Write a NumPy program to create a vector of length 5 filled with arbitrary integers from 0 to 10"
   ]
  },
  {
   "cell_type": "code",
   "execution_count": null,
   "id": "d09a4f48",
   "metadata": {},
   "outputs": [],
   "source": [
    "x = np.random.randint(0, 11, 5)"
   ]
  },
  {
   "cell_type": "markdown",
   "id": "8e62bab9",
   "metadata": {},
   "source": [
    "11. Write a NumPy program to create a 10x10 matrix, in which the elements on the borders will be equal to 1, and inside 0."
   ]
  },
  {
   "cell_type": "code",
   "execution_count": 35,
   "id": "ac2ee5a4",
   "metadata": {},
   "outputs": [
    {
     "name": "stdout",
     "output_type": "stream",
     "text": [
      "[[1 1 1 1 1 1 1 1 1 1]\n",
      " [1 0 0 0 0 0 0 0 0 1]\n",
      " [1 0 0 0 0 0 0 0 0 1]\n",
      " [1 0 0 0 0 0 0 0 0 1]\n",
      " [1 0 0 0 0 0 0 0 0 1]\n",
      " [1 0 0 0 0 0 0 0 0 1]\n",
      " [1 0 0 0 0 0 0 0 0 1]\n",
      " [1 0 0 0 0 0 0 0 0 1]\n",
      " [1 0 0 0 0 0 0 0 0 1]\n",
      " [1 1 1 1 1 1 1 1 1 1]]\n"
     ]
    }
   ],
   "source": [
    "arr1=np.zeros((10,10),dtype='int16')\n",
    "arr1[0]=1\n",
    "arr1[9]=1\n",
    "arr1[:,0]=1\n",
    "arr1[:,9]=1\n",
    "print(arr1)"
   ]
  },
  {
   "cell_type": "markdown",
   "id": "354e013f",
   "metadata": {},
   "source": [
    "12. Write a NumPy program to create a 5x5 zero matrix with elements on the main diagonal equal to 1, 2, 3, 4, 5."
   ]
  },
  {
   "cell_type": "code",
   "execution_count": 54,
   "id": "012f3276",
   "metadata": {},
   "outputs": [
    {
     "name": "stdout",
     "output_type": "stream",
     "text": [
      "[[1 0 0 0 0]\n",
      " [0 2 0 0 0]\n",
      " [0 0 3 0 0]\n",
      " [0 0 0 4 0]\n",
      " [0 0 0 0 5]]\n"
     ]
    }
   ],
   "source": [
    "arr1=np.identity((5),dtype='int16')\n",
    "arr1[arr1>0]=[1,2,3,4,5]\n",
    "print(arr1)"
   ]
  },
  {
   "cell_type": "markdown",
   "id": "2847783c",
   "metadata": {},
   "source": [
    "13. Write a NumPy program to create a 4x4 matrix in which 0 and 1 are staggered, with zeros on the main diagonal."
   ]
  },
  {
   "cell_type": "code",
   "execution_count": 86,
   "id": "f0aa977c",
   "metadata": {},
   "outputs": [
    {
     "name": "stdout",
     "output_type": "stream",
     "text": [
      "[[0 1 0 1]\n",
      " [1 0 1 0]\n",
      " [0 1 0 1]\n",
      " [1 0 1 0]]\n"
     ]
    }
   ],
   "source": [
    "arr1=np.zeros((4,4),dtype='int16')\n",
    "arr1[0::2,1::2]=1\n",
    "arr1[1::2,0::2]=1\n",
    "print(arr1)"
   ]
  },
  {
   "cell_type": "markdown",
   "id": "c67d3937",
   "metadata": {},
   "source": [
    "14. Write a NumPy program to save two given arrays into a single file in compressed format (.npz format) and load it."
   ]
  },
  {
   "cell_type": "code",
   "execution_count": 91,
   "id": "dfa3e7b5",
   "metadata": {},
   "outputs": [
    {
     "name": "stdout",
     "output_type": "stream",
     "text": [
      "Original arrays:\n",
      "[0 1 2 3 4 5 6 7 8 9]\n",
      "[11 12 13 14 15 16 17 18 19]\n",
      "Load arrays from the 'temp_arra.npz' file:\n",
      "[0 1 2 3 4 5 6 7 8 9]\n",
      "[11 12 13 14 15 16 17 18 19]\n"
     ]
    }
   ],
   "source": [
    "import os\n",
    "x = np.arange(10)\n",
    "y = np.arange(11, 20)\n",
    "print(\"Original arrays:\")\n",
    "print(x)\n",
    "print(y)\n",
    "\n",
    "# Saving the arrays 'x' and 'y' into a '.npz' file named 'temp_arra.npz' using np.savez()\n",
    "np.savez('temp_arra.npz', x=x, y=y)\n",
    "\n",
    "# Printing a message indicating loading arrays from the 'temp_arra.npz' file\n",
    "print(\"Load arrays from the 'temp_arra.npz' file:\")\n",
    "\n",
    "# Loading data from 'temp_arra.npz' into variables 'x2' and 'y2' using np.load()\n",
    "with np.load('temp_arra.npz') as data:\n",
    "    x2 = data['x']\n",
    "    y2 = data['y']\n",
    "    \n",
    "    # Printing the loaded arrays 'x2' and 'y2'\n",
    "    print(x2)\n",
    "    print(y2) "
   ]
  },
  {
   "cell_type": "markdown",
   "id": "1521b5fc",
   "metadata": {},
   "source": [
    "15. Write a NumPy program to create a one-dimensional array of forty pseudo-randomly generated values. Select"
   ]
  },
  {
   "cell_type": "code",
   "execution_count": 90,
   "id": "999803ca",
   "metadata": {},
   "outputs": [
    {
     "name": "stdout",
     "output_type": "stream",
     "text": [
      "[0.77132064 0.02075195 0.63364823 0.74880388 0.49850701 0.22479665\n",
      " 0.19806286 0.76053071 0.16911084 0.08833981 0.68535982 0.95339335\n",
      " 0.00394827 0.51219226 0.81262096 0.61252607 0.72175532 0.29187607\n",
      " 0.91777412 0.71457578 0.54254437 0.14217005 0.37334076 0.67413362\n",
      " 0.44183317 0.43401399 0.61776698 0.51313824 0.65039718 0.60103895\n",
      " 0.8052232  0.52164715 0.90864888 0.31923609 0.09045935 0.30070006\n",
      " 0.11398436 0.82868133 0.04689632 0.62628715]\n"
     ]
    }
   ],
   "source": [
    "np.random.seed(10)\n",
    "\n",
    "# Generating an array of 40 random numbers from a uniform distribution [0, 1)\n",
    "print(np.random.rand(40)) "
   ]
  },
  {
   "cell_type": "markdown",
   "id": "f56b033a",
   "metadata": {},
   "source": [
    "16. Write a NumPy program to extract all numbers from a given array which are less and greater than a specified number."
   ]
  },
  {
   "cell_type": "code",
   "execution_count": 89,
   "id": "cbebac12",
   "metadata": {},
   "outputs": [
    {
     "name": "stdout",
     "output_type": "stream",
     "text": [
      "[4 9 7]\n",
      "[1 2 0]\n"
     ]
    }
   ],
   "source": [
    "arr1=np.array([1, 2, 3, 4, 0, 9, 7])\n",
    "print(arr1[arr1>3])\n",
    "print(arr1[arr1<3])"
   ]
  }
 ],
 "metadata": {
  "kernelspec": {
   "display_name": "Python 3 (ipykernel)",
   "language": "python",
   "name": "python3"
  },
  "language_info": {
   "codemirror_mode": {
    "name": "ipython",
    "version": 3
   },
   "file_extension": ".py",
   "mimetype": "text/x-python",
   "name": "python",
   "nbconvert_exporter": "python",
   "pygments_lexer": "ipython3",
   "version": "3.10.9"
  }
 },
 "nbformat": 4,
 "nbformat_minor": 5
}
